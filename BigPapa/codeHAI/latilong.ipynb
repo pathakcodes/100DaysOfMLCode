{
 "cells": [
  {
   "cell_type": "code",
   "execution_count": 1,
   "metadata": {},
   "outputs": [],
   "source": [
    "import pandas as pd"
   ]
  },
  {
   "cell_type": "code",
   "execution_count": 6,
   "metadata": {},
   "outputs": [],
   "source": [
    "df = pd.read_excel('../dataset/datathon.xlsx')"
   ]
  },
  {
   "cell_type": "code",
   "execution_count": 7,
   "metadata": {},
   "outputs": [
    {
     "data": {
      "text/html": [
       "<div>\n",
       "<style scoped>\n",
       "    .dataframe tbody tr th:only-of-type {\n",
       "        vertical-align: middle;\n",
       "    }\n",
       "\n",
       "    .dataframe tbody tr th {\n",
       "        vertical-align: top;\n",
       "    }\n",
       "\n",
       "    .dataframe thead th {\n",
       "        text-align: right;\n",
       "    }\n",
       "</style>\n",
       "<table border=\"1\" class=\"dataframe\">\n",
       "  <thead>\n",
       "    <tr style=\"text-align: right;\">\n",
       "      <th></th>\n",
       "      <th>Data format : cust_id_token|current_address3|current_city|current_state|current_pin_code|permanent_address3|permanent_city|permanent_state|permanent_pin_code</th>\n",
       "    </tr>\n",
       "  </thead>\n",
       "  <tbody>\n",
       "    <tr>\n",
       "      <th>0</th>\n",
       "      <td>1||JAMBI|INDONESIA|36126||CHENNAI|TAMIL NADU|6...</td>\n",
       "    </tr>\n",
       "    <tr>\n",
       "      <th>1</th>\n",
       "      <td>2|INJAMBAKKAM|CHENNAI|TAMIL NADU|600115||LONDO...</td>\n",
       "    </tr>\n",
       "    <tr>\n",
       "      <th>2</th>\n",
       "      <td>3|ROODEPOORT|JOHANNESBURG|GAUTENG|2169|MANDIR ...</td>\n",
       "    </tr>\n",
       "    <tr>\n",
       "      <th>3</th>\n",
       "      <td>4||DUBAI|DUBAI|18582||BARODA|GUJARAT|390007</td>\n",
       "    </tr>\n",
       "    <tr>\n",
       "      <th>4</th>\n",
       "      <td>5||SIRSA|HARYANA|125055||SIRSA|HARYANA|125055</td>\n",
       "    </tr>\n",
       "  </tbody>\n",
       "</table>\n",
       "</div>"
      ],
      "text/plain": [
       "  Data format : cust_id_token|current_address3|current_city|current_state|current_pin_code|permanent_address3|permanent_city|permanent_state|permanent_pin_code\n",
       "0  1||JAMBI|INDONESIA|36126||CHENNAI|TAMIL NADU|6...                                                                                                           \n",
       "1  2|INJAMBAKKAM|CHENNAI|TAMIL NADU|600115||LONDO...                                                                                                           \n",
       "2  3|ROODEPOORT|JOHANNESBURG|GAUTENG|2169|MANDIR ...                                                                                                           \n",
       "3        4||DUBAI|DUBAI|18582||BARODA|GUJARAT|390007                                                                                                           \n",
       "4      5||SIRSA|HARYANA|125055||SIRSA|HARYANA|125055                                                                                                           "
      ]
     },
     "execution_count": 7,
     "metadata": {},
     "output_type": "execute_result"
    }
   ],
   "source": [
    "df.head()"
   ]
  },
  {
   "cell_type": "code",
   "execution_count": 15,
   "metadata": {},
   "outputs": [
    {
     "data": {
      "text/plain": [
       "Data format : cust_id_token|current_address3|current_city|current_state|current_pin_code|permanent_address3|permanent_city|permanent_state|permanent_pin_code    51||NEW DELHI|DELHI|110039||NEW DELHI|DELHI|11...\n",
       "Name: 50, dtype: object"
      ]
     },
     "execution_count": 15,
     "metadata": {},
     "output_type": "execute_result"
    }
   ],
   "source": [
    "df.loc[50]\n"
   ]
  },
  {
   "cell_type": "code",
   "execution_count": null,
   "metadata": {},
   "outputs": [],
   "source": []
  }
 ],
 "metadata": {
  "kernelspec": {
   "display_name": "Python 3",
   "language": "python",
   "name": "python3"
  },
  "language_info": {
   "codemirror_mode": {
    "name": "ipython",
    "version": 3
   },
   "file_extension": ".py",
   "mimetype": "text/x-python",
   "name": "python",
   "nbconvert_exporter": "python",
   "pygments_lexer": "ipython3",
   "version": "3.6.8"
  }
 },
 "nbformat": 4,
 "nbformat_minor": 2
}
