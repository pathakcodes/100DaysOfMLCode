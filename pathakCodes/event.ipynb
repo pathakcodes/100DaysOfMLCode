{
  "nbformat": 4,
  "nbformat_minor": 0,
  "metadata": {
    "colab": {
      "name": "event.ipynb",
      "version": "0.3.2",
      "provenance": [],
      "include_colab_link": true
    },
    "kernelspec": {
      "display_name": "Python 3",
      "language": "python",
      "name": "python3"
    }
  },
  "cells": [
    {
      "cell_type": "markdown",
      "metadata": {
        "id": "view-in-github",
        "colab_type": "text"
      },
      "source": [
        "<a href=\"https://colab.research.google.com/github/pathakcodes/100DaysOfMLCode/blob/master/pathakCodes/event.ipynb\" target=\"_parent\"><img src=\"https://colab.research.google.com/assets/colab-badge.svg\" alt=\"Open In Colab\"/></a>"
      ]
    },
    {
      "metadata": {
        "id": "3DboRtqsdce9",
        "colab_type": "code",
        "outputId": "3d067c7f-5bc8-4082-d2fc-6259a19938d7",
        "colab": {
          "base_uri": "https://localhost:8080/",
          "height": 124
        }
      },
      "cell_type": "code",
      "source": [
        "from google.colab import drive\n",
        "drive.mount('/content/drive')"
      ],
      "execution_count": 4,
      "outputs": [
        {
          "output_type": "stream",
          "text": [
            "Go to this URL in a browser: https://accounts.google.com/o/oauth2/auth?client_id=947318989803-6bn6qk8qdgf4n4g3pfee6491hc0brc4i.apps.googleusercontent.com&redirect_uri=urn%3Aietf%3Awg%3Aoauth%3A2.0%3Aoob&scope=email%20https%3A%2F%2Fwww.googleapis.com%2Fauth%2Fdocs.test%20https%3A%2F%2Fwww.googleapis.com%2Fauth%2Fdrive%20https%3A%2F%2Fwww.googleapis.com%2Fauth%2Fdrive.photos.readonly%20https%3A%2F%2Fwww.googleapis.com%2Fauth%2Fpeopleapi.readonly&response_type=code\n",
            "\n",
            "Enter your authorization code:\n",
            "··········\n",
            "Mounted at /content/drive\n"
          ],
          "name": "stdout"
        }
      ]
    },
    {
      "metadata": {
        "id": "2ikY1sz-BtEE",
        "colab_type": "code",
        "colab": {}
      },
      "cell_type": "code",
      "source": [
        "Path = '/content/drive/My Drive/DataSet'"
      ],
      "execution_count": 0,
      "outputs": []
    },
    {
      "metadata": {
        "id": "-d6Ag1Iqc5hi",
        "colab_type": "code",
        "colab": {}
      },
      "cell_type": "code",
      "source": [
        "import pandas as pd \n",
        "import numpy as np\n",
        "import matplotlib.pylab as plt\n",
        "%matplotlib inline\n",
        "\n",
        "from sklearn.linear_model import *\n",
        "import xgboost as xgb\n",
        "\n",
        "from IPython.display import display\n",
        "\n"
      ],
      "execution_count": 0,
      "outputs": []
    },
    {
      "metadata": {
        "id": "Sn9xPZPec5iB",
        "colab_type": "code",
        "colab": {}
      },
      "cell_type": "code",
      "source": [
        "from matplotlib.pylab import rcParams\n",
        "rcParams['figure.figsize'] = 15, 6"
      ],
      "execution_count": 0,
      "outputs": []
    },
    {
      "metadata": {
        "id": "lEIO9Hv6c5iZ",
        "colab_type": "code",
        "colab": {}
      },
      "cell_type": "code",
      "source": [
        "df= pd.read_csv('event.txt')"
      ],
      "execution_count": 0,
      "outputs": []
    },
    {
      "metadata": {
        "id": "ilUkoZi2c5it",
        "colab_type": "code",
        "outputId": "3faf2d4c-5e04-4ae3-a59a-a099061bc997",
        "colab": {
          "base_uri": "https://localhost:8080/",
          "height": 300
        }
      },
      "cell_type": "code",
      "source": [
        "df.describe() #to get insight of data"
      ],
      "execution_count": 13,
      "outputs": [
        {
          "output_type": "execute_result",
          "data": {
            "text/html": [
              "<div>\n",
              "<style scoped>\n",
              "    .dataframe tbody tr th:only-of-type {\n",
              "        vertical-align: middle;\n",
              "    }\n",
              "\n",
              "    .dataframe tbody tr th {\n",
              "        vertical-align: top;\n",
              "    }\n",
              "\n",
              "    .dataframe thead th {\n",
              "        text-align: right;\n",
              "    }\n",
              "</style>\n",
              "<table border=\"1\" class=\"dataframe\">\n",
              "  <thead>\n",
              "    <tr style=\"text-align: right;\">\n",
              "      <th></th>\n",
              "      <th>Open</th>\n",
              "      <th>High</th>\n",
              "      <th>Low</th>\n",
              "      <th>Close</th>\n",
              "      <th>Volume</th>\n",
              "      <th>OpenInt</th>\n",
              "    </tr>\n",
              "  </thead>\n",
              "  <tbody>\n",
              "    <tr>\n",
              "      <th>count</th>\n",
              "      <td>8737.000000</td>\n",
              "      <td>8737.000000</td>\n",
              "      <td>8737.000000</td>\n",
              "      <td>8737.000000</td>\n",
              "      <td>8.737000e+03</td>\n",
              "      <td>8737.0</td>\n",
              "    </tr>\n",
              "    <tr>\n",
              "      <th>mean</th>\n",
              "      <td>10.839869</td>\n",
              "      <td>11.074302</td>\n",
              "      <td>10.584916</td>\n",
              "      <td>10.828801</td>\n",
              "      <td>1.164218e+07</td>\n",
              "      <td>0.0</td>\n",
              "    </tr>\n",
              "    <tr>\n",
              "      <th>std</th>\n",
              "      <td>7.189474</td>\n",
              "      <td>7.365667</td>\n",
              "      <td>7.000728</td>\n",
              "      <td>7.188456</td>\n",
              "      <td>1.701616e+07</td>\n",
              "      <td>0.0</td>\n",
              "    </tr>\n",
              "    <tr>\n",
              "      <th>min</th>\n",
              "      <td>1.620000</td>\n",
              "      <td>1.690000</td>\n",
              "      <td>1.610000</td>\n",
              "      <td>1.620000</td>\n",
              "      <td>0.000000e+00</td>\n",
              "      <td>0.0</td>\n",
              "    </tr>\n",
              "    <tr>\n",
              "      <th>25%</th>\n",
              "      <td>5.440000</td>\n",
              "      <td>5.570000</td>\n",
              "      <td>5.300000</td>\n",
              "      <td>5.440000</td>\n",
              "      <td>1.405400e+06</td>\n",
              "      <td>0.0</td>\n",
              "    </tr>\n",
              "    <tr>\n",
              "      <th>50%</th>\n",
              "      <td>9.190000</td>\n",
              "      <td>9.380000</td>\n",
              "      <td>8.970000</td>\n",
              "      <td>9.150000</td>\n",
              "      <td>5.729558e+06</td>\n",
              "      <td>0.0</td>\n",
              "    </tr>\n",
              "    <tr>\n",
              "      <th>75%</th>\n",
              "      <td>14.500000</td>\n",
              "      <td>14.810000</td>\n",
              "      <td>14.240000</td>\n",
              "      <td>14.500000</td>\n",
              "      <td>1.563800e+07</td>\n",
              "      <td>0.0</td>\n",
              "    </tr>\n",
              "    <tr>\n",
              "      <th>max</th>\n",
              "      <td>47.000000</td>\n",
              "      <td>48.500000</td>\n",
              "      <td>45.500000</td>\n",
              "      <td>47.500000</td>\n",
              "      <td>2.677054e+08</td>\n",
              "      <td>0.0</td>\n",
              "    </tr>\n",
              "  </tbody>\n",
              "</table>\n",
              "</div>"
            ],
            "text/plain": [
              "              Open         High          Low        Close        Volume  \\\n",
              "count  8737.000000  8737.000000  8737.000000  8737.000000  8.737000e+03   \n",
              "mean     10.839869    11.074302    10.584916    10.828801  1.164218e+07   \n",
              "std       7.189474     7.365667     7.000728     7.188456  1.701616e+07   \n",
              "min       1.620000     1.690000     1.610000     1.620000  0.000000e+00   \n",
              "25%       5.440000     5.570000     5.300000     5.440000  1.405400e+06   \n",
              "50%       9.190000     9.380000     8.970000     9.150000  5.729558e+06   \n",
              "75%      14.500000    14.810000    14.240000    14.500000  1.563800e+07   \n",
              "max      47.000000    48.500000    45.500000    47.500000  2.677054e+08   \n",
              "\n",
              "       OpenInt  \n",
              "count   8737.0  \n",
              "mean       0.0  \n",
              "std        0.0  \n",
              "min        0.0  \n",
              "25%        0.0  \n",
              "50%        0.0  \n",
              "75%        0.0  \n",
              "max        0.0  "
            ]
          },
          "metadata": {
            "tags": []
          },
          "execution_count": 13
        }
      ]
    },
    {
      "metadata": {
        "id": "Cl-9JurlLvuy",
        "colab_type": "code",
        "colab": {
          "base_uri": "https://localhost:8080/",
          "height": 237
        },
        "outputId": "59a5269e-2844-4115-96d1-90529c240a33"
      },
      "cell_type": "code",
      "source": [
        "df.head()"
      ],
      "execution_count": 52,
      "outputs": [
        {
          "output_type": "execute_result",
          "data": {
            "text/html": [
              "<div>\n",
              "<style scoped>\n",
              "    .dataframe tbody tr th:only-of-type {\n",
              "        vertical-align: middle;\n",
              "    }\n",
              "\n",
              "    .dataframe tbody tr th {\n",
              "        vertical-align: top;\n",
              "    }\n",
              "\n",
              "    .dataframe thead th {\n",
              "        text-align: right;\n",
              "    }\n",
              "</style>\n",
              "<table border=\"1\" class=\"dataframe\">\n",
              "  <thead>\n",
              "    <tr style=\"text-align: right;\">\n",
              "      <th></th>\n",
              "      <th>Date</th>\n",
              "      <th>Open</th>\n",
              "      <th>High</th>\n",
              "      <th>Low</th>\n",
              "      <th>Close</th>\n",
              "      <th>Volume</th>\n",
              "      <th>OpenInt</th>\n",
              "    </tr>\n",
              "    <tr>\n",
              "      <th>Date</th>\n",
              "      <th></th>\n",
              "      <th></th>\n",
              "      <th></th>\n",
              "      <th></th>\n",
              "      <th></th>\n",
              "      <th></th>\n",
              "      <th></th>\n",
              "    </tr>\n",
              "  </thead>\n",
              "  <tbody>\n",
              "    <tr>\n",
              "      <th>1983-03-21</th>\n",
              "      <td>1983-03-21</td>\n",
              "      <td>8.97</td>\n",
              "      <td>9.03</td>\n",
              "      <td>8.81</td>\n",
              "      <td>8.81</td>\n",
              "      <td>528000</td>\n",
              "      <td>0</td>\n",
              "    </tr>\n",
              "    <tr>\n",
              "      <th>1983-03-22</th>\n",
              "      <td>1983-03-22</td>\n",
              "      <td>8.72</td>\n",
              "      <td>8.97</td>\n",
              "      <td>8.50</td>\n",
              "      <td>8.50</td>\n",
              "      <td>332400</td>\n",
              "      <td>0</td>\n",
              "    </tr>\n",
              "    <tr>\n",
              "      <th>1983-03-23</th>\n",
              "      <td>1983-03-23</td>\n",
              "      <td>8.50</td>\n",
              "      <td>8.81</td>\n",
              "      <td>8.47</td>\n",
              "      <td>8.47</td>\n",
              "      <td>442400</td>\n",
              "      <td>0</td>\n",
              "    </tr>\n",
              "    <tr>\n",
              "      <th>1983-03-24</th>\n",
              "      <td>1983-03-24</td>\n",
              "      <td>8.72</td>\n",
              "      <td>8.78</td>\n",
              "      <td>8.66</td>\n",
              "      <td>8.66</td>\n",
              "      <td>412000</td>\n",
              "      <td>0</td>\n",
              "    </tr>\n",
              "    <tr>\n",
              "      <th>1983-03-25</th>\n",
              "      <td>1983-03-25</td>\n",
              "      <td>8.91</td>\n",
              "      <td>9.06</td>\n",
              "      <td>8.75</td>\n",
              "      <td>8.75</td>\n",
              "      <td>216400</td>\n",
              "      <td>0</td>\n",
              "    </tr>\n",
              "  </tbody>\n",
              "</table>\n",
              "</div>"
            ],
            "text/plain": [
              "                 Date  Open  High   Low  Close  Volume  OpenInt\n",
              "Date                                                           \n",
              "1983-03-21 1983-03-21  8.97  9.03  8.81   8.81  528000        0\n",
              "1983-03-22 1983-03-22  8.72  8.97  8.50   8.50  332400        0\n",
              "1983-03-23 1983-03-23  8.50  8.81  8.47   8.47  442400        0\n",
              "1983-03-24 1983-03-24  8.72  8.78  8.66   8.66  412000        0\n",
              "1983-03-25 1983-03-25  8.91  9.06  8.75   8.75  216400        0"
            ]
          },
          "metadata": {
            "tags": []
          },
          "execution_count": 52
        }
      ]
    },
    {
      "metadata": {
        "id": "oVvVJpcqc5jI",
        "colab_type": "code",
        "outputId": "fe2614d4-4e7c-4ca6-947b-ba09b1e68f0b",
        "colab": {
          "base_uri": "https://localhost:8080/",
          "height": 34
        }
      },
      "cell_type": "code",
      "source": [
        "df.shape #axis 1 , axis  =0"
      ],
      "execution_count": 15,
      "outputs": [
        {
          "output_type": "execute_result",
          "data": {
            "text/plain": [
              "(8737, 7)"
            ]
          },
          "metadata": {
            "tags": []
          },
          "execution_count": 15
        }
      ]
    },
    {
      "metadata": {
        "id": "T1VOwFNWc5jZ",
        "colab_type": "code",
        "outputId": "2b49bc08-2679-4a18-bcb9-239811d8b6e9",
        "colab": {
          "base_uri": "https://localhost:8080/",
          "height": 156
        }
      },
      "cell_type": "code",
      "source": [
        "print(df.dtypes)\n"
      ],
      "execution_count": 14,
      "outputs": [
        {
          "output_type": "stream",
          "text": [
            "Date        object\n",
            "Open       float64\n",
            "High       float64\n",
            "Low        float64\n",
            "Close      float64\n",
            "Volume       int64\n",
            "OpenInt      int64\n",
            "dtype: object\n"
          ],
          "name": "stdout"
        }
      ]
    },
    {
      "metadata": {
        "id": "_7v1Du48c5jv",
        "colab_type": "code",
        "colab": {}
      },
      "cell_type": "code",
      "source": [
        "df['Date'] = pd.to_datetime(df['Date']) #to convert object data type to date-time object\n",
        "df.index = df['Date'] #setting Date as index"
      ],
      "execution_count": 0,
      "outputs": []
    },
    {
      "metadata": {
        "id": "2HH7Rkqmc5kG",
        "colab_type": "code",
        "outputId": "9bfb62ee-850d-4b56-f162-eca0ec458ff6",
        "colab": {
          "base_uri": "https://localhost:8080/",
          "height": 156
        }
      },
      "cell_type": "code",
      "source": [
        "print(df.dtypes)"
      ],
      "execution_count": 17,
      "outputs": [
        {
          "output_type": "stream",
          "text": [
            "Date       datetime64[ns]\n",
            "Open              float64\n",
            "High              float64\n",
            "Low               float64\n",
            "Close             float64\n",
            "Volume              int64\n",
            "OpenInt             int64\n",
            "dtype: object\n"
          ],
          "name": "stdout"
        }
      ]
    },
    {
      "metadata": {
        "id": "56zeoCEQc5mX",
        "colab_type": "code",
        "colab": {}
      },
      "cell_type": "code",
      "source": [
        "#df.shape[1] repsents y axis"
      ],
      "execution_count": 0,
      "outputs": []
    },
    {
      "metadata": {
        "id": "Ix9xL3DSc5ml",
        "colab_type": "code",
        "colab": {}
      },
      "cell_type": "code",
      "source": [
        "#df.shape[0] # represents x axis"
      ],
      "execution_count": 0,
      "outputs": []
    },
    {
      "metadata": {
        "id": "4FUTO4GCDM5A",
        "colab_type": "code",
        "colab": {}
      },
      "cell_type": "code",
      "source": [
        "OH = df['Open']-df['High']\n",
        "OH = OH.abs()"
      ],
      "execution_count": 0,
      "outputs": []
    },
    {
      "metadata": {
        "id": "TGl3MGPcFBcB",
        "colab_type": "code",
        "colab": {}
      },
      "cell_type": "code",
      "source": [
        "OL = df['Open'] - df['Low']\n",
        "OL = OL.abs()"
      ],
      "execution_count": 0,
      "outputs": []
    },
    {
      "metadata": {
        "id": "V7pe8SKiFPzp",
        "colab_type": "code",
        "colab": {}
      },
      "cell_type": "code",
      "source": [
        "HL = df['High'] - df['Low']\n",
        "HL = HL.abs()"
      ],
      "execution_count": 0,
      "outputs": []
    },
    {
      "metadata": {
        "id": "oEgqFoP3FeyY",
        "colab_type": "code",
        "colab": {}
      },
      "cell_type": "code",
      "source": [
        "CH = df['Close'] - df['High']\n",
        "CH = CH.abs()"
      ],
      "execution_count": 0,
      "outputs": []
    },
    {
      "metadata": {
        "id": "fQDm_ZPQFpT8",
        "colab_type": "code",
        "colab": {}
      },
      "cell_type": "code",
      "source": [
        "CL = df['Close'] - df['Low']\n",
        "CL = CL.abs()"
      ],
      "execution_count": 0,
      "outputs": []
    },
    {
      "metadata": {
        "id": "QHH7fk84FxE-",
        "colab_type": "code",
        "colab": {}
      },
      "cell_type": "code",
      "source": [
        "change = OH + OL + HL + CH + CL \n"
      ],
      "execution_count": 0,
      "outputs": []
    },
    {
      "metadata": {
        "id": "MOqVpVfSF65n",
        "colab_type": "code",
        "colab": {
          "base_uri": "https://localhost:8080/",
          "height": 173
        },
        "outputId": "6345a26f-bfe6-400f-d714-12dd803f2449"
      },
      "cell_type": "code",
      "source": [
        "change.describe()"
      ],
      "execution_count": 43,
      "outputs": [
        {
          "output_type": "execute_result",
          "data": {
            "text/plain": [
              "count    8737.000000\n",
              "mean        1.224272\n",
              "std         1.276466\n",
              "min         0.000000\n",
              "25%         0.500000\n",
              "50%         0.870000\n",
              "75%         1.450000\n",
              "max        15.920000\n",
              "dtype: float64"
            ]
          },
          "metadata": {
            "tags": []
          },
          "execution_count": 43
        }
      ]
    },
    {
      "metadata": {
        "id": "C0tyfJUrHcXl",
        "colab_type": "code",
        "colab": {
          "base_uri": "https://localhost:8080/",
          "height": 391
        },
        "outputId": "a4937fb6-9681-45a4-bab7-11835a12ae5c"
      },
      "cell_type": "code",
      "source": [
        "rcParams['figure.figsize'] = 16, 6\n",
        "plt.plot(change)"
      ],
      "execution_count": 55,
      "outputs": [
        {
          "output_type": "execute_result",
          "data": {
            "text/plain": [
              "[<matplotlib.lines.Line2D at 0x7f8cc7d22e48>]"
            ]
          },
          "metadata": {
            "tags": []
          },
          "execution_count": 55
        },
        {
          "output_type": "display_data",
          "data": {
            "image/png": "[encoded data removed]",
            "text/plain": [
              "<Figure size 1152x432 with 1 Axes>"
            ]
          },
          "metadata": {
            "tags": []
          }
        }
      ]
    },
    {
      "metadata": {
        "id": "Bd7XOGVYOxla",
        "colab_type": "code",
        "colab": {}
      },
      "cell_type": "code",
      "source": [
        ""
      ],
      "execution_count": 0,
      "outputs": []
    },
    {
      "metadata": {
        "id": "JdlFsr47K8M5",
        "colab_type": "code",
        "colab": {}
      },
      "cell_type": "code",
      "source": [
        ""
      ],
      "execution_count": 0,
      "outputs": []
    }
  ]
}